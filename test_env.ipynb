{
 "cells": [
  {
   "cell_type": "code",
   "execution_count": null,
   "id": "2b16c777-9758-4f11-acec-26782907dd34",
   "metadata": {},
   "outputs": [],
   "source": [
    "import torch\n",
    "import torchvision\n",
    "\n",
    "print(torch.__version__)        # 2.3.1\n",
    "print(torchvision.__version__) # 0.16.1\n",
    "print(torch.cuda.is_available())  # True\n",
    "print(torch.cuda.get_device_name(0))  # Your GPU\n"
   ]
  }
 ],
 "metadata": {
  "kernelspec": {
   "display_name": "ML Env (mlenv)",
   "language": "python",
   "name": "mlenv"
  },
  "language_info": {
   "codemirror_mode": {
    "name": "ipython",
    "version": 3
   },
   "file_extension": ".py",
   "mimetype": "text/x-python",
   "name": "python",
   "nbconvert_exporter": "python",
   "pygments_lexer": "ipython3",
   "version": "3.10.16"
  }
 },
 "nbformat": 4,
 "nbformat_minor": 5
}
